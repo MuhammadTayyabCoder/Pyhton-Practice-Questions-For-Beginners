{
 "cells": [
  {
   "cell_type": "markdown",
   "metadata": {},
   "source": [
    "# If-Else Questions"
   ]
  },
  {
   "cell_type": "markdown",
   "metadata": {},
   "source": [
    "### Question:1) Accept two numbers and accept the greatest between them"
   ]
  },
  {
   "cell_type": "code",
   "execution_count": null,
   "metadata": {},
   "outputs": [],
   "source": [
    "a = int(input(\"Enter the First Number: \"))\n",
    "b = int(input(\"Enter the Second Number: \"))\n",
    "if a > b:\n",
    "    print(f\"{a} is greater than {b}\")\n",
    "elif b > a:\n",
    "    print(f\"{b} is greater than {a}\")\n",
    "else:\n",
    "    print(\"Both numbers are equal\")\n"
   ]
  },
  {
   "cell_type": "markdown",
   "metadata": {},
   "source": [
    "### Question:2) Aceept the gender from user as char and print the respective greeting message. Ex-Goood Morning Sir (on the basis of gender)"
   ]
  },
  {
   "cell_type": "code",
   "execution_count": null,
   "metadata": {},
   "outputs": [],
   "source": [
    "Gender = input(\"Enter the Gender as M or F: \")\n",
    "if Gender == \"m\" or Gender == \"M\":\n",
    "    print(\"Good Morning Sir\")\n",
    "elif Gender == \"f\" or Gender == \"F\":\n",
    "    print(\"Good Morning Ma'am\")\n",
    "else:\n",
    "    print(\"Wrong Input\")"
   ]
  },
  {
   "cell_type": "markdown",
   "metadata": {},
   "source": [
    "### Question:3) Accept an integer and check whether it is even or odd number"
   ]
  },
  {
   "cell_type": "code",
   "execution_count": null,
   "metadata": {},
   "outputs": [],
   "source": [
    "a = int(input(\"Enter the Number: \"))\n",
    "if a % 2 == 0:\n",
    "    print(f\"{a} is an even number\")\n",
    "else:\n",
    "    print(f\"{a} is an odd number\")\n",
    "\n"
   ]
  },
  {
   "cell_type": "markdown",
   "metadata": {},
   "source": [
    "### Question:4) Accept name and age from the user. Check if the user is valid voter or not"
   ]
  },
  {
   "cell_type": "code",
   "execution_count": null,
   "metadata": {},
   "outputs": [],
   "source": [
    "name = input(\"Enter Your Name: \")\n",
    "age = int(input(\"Enter Your Age: \"))\n",
    "if age >= 18 :\n",
    "    print(f\"{name} is valid for voter\")\n",
    "elif age < 18 and age > 0:\n",
    "    print(f\"{name} is valid for voter\")\n",
    "else:\n",
    "    print(f\"{name} give a valid age\")"
   ]
  },
  {
   "cell_type": "markdown",
   "metadata": {},
   "source": [
    "###  Question:5) Accept a year and check if it a leap year or not"
   ]
  },
  {
   "cell_type": "code",
   "execution_count": null,
   "metadata": {},
   "outputs": [],
   "source": [
    "a = int(input(\"Enter the Year: \"))\n",
    "if (a % 4 == 0 and a % 100 != 0) or (a % 100 == 0 and a % 400 == 0):\n",
    "    print(f\"{a} is a leep year\")\n",
    "else:\n",
    "    print(f\"{a} is not a leep year\")"
   ]
  },
  {
   "cell_type": "markdown",
   "metadata": {},
   "source": [
    "### Question:6) Accept an English alphabet and check if it is a constant and vowel"
   ]
  },
  {
   "cell_type": "code",
   "execution_count": null,
   "metadata": {},
   "outputs": [],
   "source": [
    "alphabet = input(\"Enter An Alphabet: \")  \n",
    "if  alphabet in \"AEIOUaeiou\":\n",
    "    print(f\"{alphabet} is vowel\")\n",
    "else:\n",
    "    print(f\"{alphabet} is constant\")"
   ]
  },
  {
   "cell_type": "markdown",
   "metadata": {},
   "source": [
    "# Loops Questions"
   ]
  },
  {
   "cell_type": "markdown",
   "metadata": {},
   "source": [
    "### Question:1) Print natural number upto n"
   ]
  },
  {
   "cell_type": "code",
   "execution_count": null,
   "metadata": {},
   "outputs": [],
   "source": [
    "num = int(input(\"Enter the Number: \"))\n",
    "for i in range(1,num + 1):\n",
    "    print(i)"
   ]
  },
  {
   "cell_type": "markdown",
   "metadata": {},
   "source": [
    "### Question:2) Reverse loop. Print n to 1."
   ]
  },
  {
   "cell_type": "code",
   "execution_count": null,
   "metadata": {},
   "outputs": [],
   "source": [
    "num = int(input(\"Enter the Number: \"))\n",
    "for i in range(num,0,-1):\n",
    "    print(i)"
   ]
  },
  {
   "cell_type": "markdown",
   "metadata": {},
   "source": [
    "### Question:3) Input a number and print its table"
   ]
  },
  {
   "cell_type": "code",
   "execution_count": null,
   "metadata": {},
   "outputs": [],
   "source": [
    "num = int(input(\"Enter the Number: \"))\n",
    "for i in range(1,11):\n",
    "    print(f\"{num} * {i}  = {num*i}\")"
   ]
  },
  {
   "cell_type": "markdown",
   "metadata": {},
   "source": [
    "### Question:4) Sum upto to n numbers"
   ]
  },
  {
   "cell_type": "code",
   "execution_count": null,
   "metadata": {},
   "outputs": [],
   "source": [
    "num = int(input(\"Enter the Number: \"))\n",
    "sum = 0\n",
    "for i in range(1,num + 1):\n",
    "    sum = sum + i\n",
    "print(f\"The sum upto {num} natural number is {sum}\")"
   ]
  },
  {
   "cell_type": "markdown",
   "metadata": {},
   "source": [
    "### Question:5) Factorial of a numbers"
   ]
  },
  {
   "cell_type": "code",
   "execution_count": null,
   "metadata": {},
   "outputs": [],
   "source": [
    "num = int(input(\"Enter the Number: \"))\n",
    "factorial = 1\n",
    "for i in range(1,num + 1):\n",
    "    factorial = factorial * i\n",
    "print(f\"The factorial of {num} number is {factorial}\")"
   ]
  },
  {
   "cell_type": "markdown",
   "metadata": {},
   "source": [
    "# Loops Advanced Questions"
   ]
  },
  {
   "cell_type": "markdown",
   "metadata": {},
   "source": [
    "### Question:1) Print all the factors of a number"
   ]
  },
  {
   "cell_type": "code",
   "execution_count": null,
   "metadata": {},
   "outputs": [],
   "source": [
    "num = int(input(\"Enter the Number: \"))\n",
    "print(\"All the factors are:\",end=\" \")\n",
    "for i in range(1,num+1):\n",
    "    if num % i == 0: \n",
    "        print(i, end = \" \")"
   ]
  },
  {
   "cell_type": "markdown",
   "metadata": {},
   "source": [
    "### Question:2) Accept a number and check it is perfect number or not. A number whose sum of factors (excluding itself number) = number. Ex 6 = 1,2,3 = 6"
   ]
  },
  {
   "cell_type": "code",
   "execution_count": null,
   "metadata": {},
   "outputs": [],
   "source": [
    "num = int(input(\"Enter the Number: \"))\n",
    "sum = 0\n",
    "for i in range(1,num):\n",
    "    if num % i == 0: \n",
    "        sum = sum + i\n",
    "if sum == num:\n",
    "    print(f\"{num} is a perfect number\")\n",
    "else:\n",
    "    print(f\"{num} is not a perfect number\")"
   ]
  },
  {
   "cell_type": "markdown",
   "metadata": {},
   "source": [
    "### Question:3) Check the number is prime or not"
   ]
  },
  {
   "cell_type": "code",
   "execution_count": null,
   "metadata": {},
   "outputs": [],
   "source": [
    "# Check Prime Number Using Division\n",
    "# num = int(input(\"Enter the Number: \"))\n",
    "# dec = True\n",
    "# for i in range(2,num):\n",
    "#     if num % i == 0: \n",
    "#         dec = False\n",
    "#         break\n",
    "# if dec:\n",
    "#     print(f\"{num} is a prime number\")\n",
    "# else:\n",
    "#     print(f\"{num} is not a prime number\")\n",
    "\n",
    "# Check Prime Number Using Factors If Factors Are Greater Than 2 then it is not prime number\n",
    "num = int(input(\"Enter the Number: \"))\n",
    "factors = 0\n",
    "for i in range(1,num+1):\n",
    "    if num % i == 0: \n",
    "       factors = factors + 1\n",
    "if factors == 2:\n",
    "    print(f\"{num} is a prime number\")\n",
    "else:\n",
    "    print(f\"{num} is a composite number and not a prime number\")"
   ]
  },
  {
   "cell_type": "markdown",
   "metadata": {},
   "source": [
    "### Question:4) Separate each digit of a number and print it on new line"
   ]
  },
  {
   "cell_type": "code",
   "execution_count": null,
   "metadata": {},
   "outputs": [],
   "source": [
    "# Using Strings\n",
    "# num = input(\"Enter the Number: \")\n",
    "# for i in num:\n",
    "#     print(int(i))\n",
    "\n",
    "# Without Strings\n",
    "num = int(input(\"Enter the Number: \"))\n",
    "while num>0:\n",
    "    rem = num % 10\n",
    "    num = num // 10\n",
    "    print(rem)"
   ]
  },
  {
   "cell_type": "markdown",
   "metadata": {},
   "source": [
    "### Question:5) Accept a number and check if it is a pallindrome number. If number and its reverse is equal. Ex 12321 - Reverse - 12321"
   ]
  },
  {
   "cell_type": "code",
   "execution_count": null,
   "metadata": {},
   "outputs": [],
   "source": [
    "num1 = int(input(\"Enter the Number: \"))\n",
    "num = num1\n",
    "rev = 0\n",
    "while num>0:\n",
    "    rem = num % 10\n",
    "    num = num // 10\n",
    "    print(f\"rem = {rem}\")\n",
    "    rev = rev * 10 + rem\n",
    "    print (f\"rev = {rev}\")\n",
    "print(num1,rev)\n",
    "if num1 == rev:\n",
    "    print(f\"{num1} is a pallindrome number\")\n",
    "else:\n",
    "    print(f\"{num1} is not a pallindrome number\")"
   ]
  },
  {
   "cell_type": "markdown",
   "metadata": {},
   "source": [
    "# Assignment Advanced Questions"
   ]
  },
  {
   "cell_type": "markdown",
   "metadata": {},
   "source": [
    "### Question:1) Check number is strong or not\n",
    "### 145 -> 1!+4!+5! ->1+24+120 -> 145 "
   ]
  },
  {
   "cell_type": "code",
   "execution_count": null,
   "metadata": {},
   "outputs": [],
   "source": [
    "num1 = int(input(\"Enter the Number: \"))\n",
    "num = num1\n",
    "sum = 0\n",
    "while num>0:\n",
    "    fact = 1\n",
    "    rem = num % 10\n",
    "    for i in range(1,rem+1):\n",
    "        fact = fact * i\n",
    "    sum = sum + fact\n",
    "    num = num // 10\n",
    "if num1 == sum:\n",
    "    print(f\"{num1} is a strong number\")\n",
    "else:\n",
    "    print(f\"{num1} is not a strong number\")"
   ]
  },
  {
   "cell_type": "markdown",
   "metadata": {},
   "source": [
    "### Question:2) Tell all strong numbers numbers in a range "
   ]
  },
  {
   "cell_type": "code",
   "execution_count": null,
   "metadata": {},
   "outputs": [],
   "source": [
    "num1 = int(input(\"Enter First Number Of Range: \"))\n",
    "num2 = int(input(\"Enter Second Number Of Range: \"))\n",
    "for i in range(num1,num2+1):\n",
    "    num = i\n",
    "    sum = 0\n",
    "    while num>0:\n",
    "        fact = 1\n",
    "        rem = num % 10\n",
    "        for j in range(1,rem+1):\n",
    "            fact = fact * j\n",
    "        sum = sum + fact\n",
    "        num = num // 10\n",
    "    if i == sum:\n",
    "        print(f\"{i} is a strong number\")\n",
    "    else:\n",
    "        print(f\"{i} is not a strong number\")"
   ]
  },
  {
   "cell_type": "markdown",
   "metadata": {},
   "source": [
    "### Question:3) Tell all prime numbers in a range "
   ]
  },
  {
   "cell_type": "code",
   "execution_count": null,
   "metadata": {},
   "outputs": [],
   "source": [
    "num1 = int(input(\"Enter First Number Of Range: \"))\n",
    "num2 = int(input(\"Enter Second Number Of Range: \"))\n",
    "for i in range(num1,num2+1):\n",
    "    print(f\"for:{i}\")\n",
    "    factors = 0\n",
    "    for j in range(1,i+1):\n",
    "        if i % j == 0: \n",
    "            factors = factors + 1\n",
    "    if factors == 2:\n",
    "        print(f\"{i} is a prime number\")\n",
    "    else:\n",
    "        print(f\"{i} is a composite number and not a prime number\")"
   ]
  },
  {
   "cell_type": "markdown",
   "metadata": {},
   "source": [
    "### Question:4) Print the Febnocci Series "
   ]
  },
  {
   "cell_type": "code",
   "execution_count": null,
   "metadata": {},
   "outputs": [],
   "source": [
    "numbers = int(input(\"Enter total elememnts which you want to know of febnocci series: \"))\n",
    "print(\"The Febnocci Series is: \")\n",
    "num1 = 1\n",
    "num2 = 1\n",
    "print(num1,end=\",\")\n",
    "print(num2,end=\",\")\n",
    "a = num1\n",
    "b = num2\n",
    "for i in range(3,numbers + 1):\n",
    "    z = a + b\n",
    "    print(z,end=\",\")\n",
    "    a = b\n",
    "    b = z\n"
   ]
  },
  {
   "cell_type": "markdown",
   "metadata": {},
   "source": [
    "### Question:5) Right angle star "
   ]
  },
  {
   "cell_type": "code",
   "execution_count": null,
   "metadata": {},
   "outputs": [],
   "source": [
    "star = \"\"\n",
    "for i in range(1,6):\n",
    "    star = f\"{star}*\"\n",
    "    print(star)"
   ]
  }
 ],
 "metadata": {
  "kernelspec": {
   "display_name": "base",
   "language": "python",
   "name": "python3"
  },
  "language_info": {
   "codemirror_mode": {
    "name": "ipython",
    "version": 3
   },
   "file_extension": ".py",
   "mimetype": "text/x-python",
   "name": "python",
   "nbconvert_exporter": "python",
   "pygments_lexer": "ipython3",
   "version": "3.11.5"
  }
 },
 "nbformat": 4,
 "nbformat_minor": 2
}
